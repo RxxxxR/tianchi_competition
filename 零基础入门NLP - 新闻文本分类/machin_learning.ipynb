{
 "cells": [
  {
   "cell_type": "markdown",
   "metadata": {},
   "source": [
    "词袋模型"
   ]
  },
  {
   "cell_type": "code",
   "execution_count": 1,
   "metadata": {},
   "outputs": [
    {
     "data": {
      "text/plain": "array([[0, 1, 1, 1, 0, 0, 1, 0, 1],\n       [0, 2, 0, 1, 0, 1, 1, 0, 1],\n       [1, 0, 0, 1, 1, 0, 1, 1, 1],\n       [0, 1, 1, 1, 0, 0, 1, 0, 1]])"
     },
     "execution_count": 1,
     "metadata": {},
     "output_type": "execute_result"
    }
   ],
   "source": [
    "from sklearn.feature_extraction.text import CountVectorizer\n",
    "corpus = [\n",
    "    'This is the first document.',\n",
    "    'This document is the second document.',\n",
    "    'And this is the third one.',\n",
    "    'Is this the first document?',\n",
    "]\n",
    "vectorizer = CountVectorizer()\n",
    "vectorizer.fit_transform(corpus).toarray()"
   ]
  },
  {
   "cell_type": "markdown",
   "metadata": {},
   "source": [
    "基于机器学习的文本分类"
   ]
  },
  {
   "cell_type": "code",
   "execution_count": 7,
   "metadata": {},
   "outputs": [
    {
     "name": "stdout",
     "output_type": "stream",
     "text": [
      "0.7417677731742842\n"
     ]
    }
   ],
   "source": [
    "# Count Vectors + RidgeClassifier\n",
    "\n",
    "import pandas as pd\n",
    "\n",
    "from sklearn.feature_extraction.text import CountVectorizer\n",
    "from sklearn.linear_model import RidgeClassifier\n",
    "from sklearn.metrics import f1_score\n",
    "import os\n",
    "\n",
    "\n",
    "data_dir = os.path.abspath(\"./\").replace(\"competition\", \"competition_data\")\n",
    "\n",
    "train_df = pd.read_csv(os.path.join(data_dir, 'data/train_set.csv'), sep='\\t', nrows=15000)\n",
    "\n",
    "vectorizer = CountVectorizer(max_features=3000)\n",
    "train_test = vectorizer.fit_transform(train_df['text'])\n",
    "\n",
    "clf = RidgeClassifier()\n",
    "clf.fit(train_test[:10000], train_df['label'].values[:10000])\n",
    "\n",
    "val_pred = clf.predict(train_test[10000:])\n",
    "print(f1_score(train_df['label'].values[10000:], val_pred, average='macro'))\n",
    "# 0.74"
   ]
  },
  {
   "cell_type": "code",
   "execution_count": 9,
   "metadata": {},
   "outputs": [
    {
     "name": "stdout",
     "output_type": "stream",
     "text": [
      "0.8721598830546126\n"
     ]
    }
   ],
   "source": [
    "# TF-IDF +  RidgeClassifier\n",
    "\n",
    "import pandas as pd\n",
    "\n",
    "from sklearn.feature_extraction.text import TfidfVectorizer\n",
    "from sklearn.linear_model import RidgeClassifier\n",
    "from sklearn.metrics import f1_score\n",
    "\n",
    "data_dir = os.path.abspath(\"./\").replace(\"competition\", \"competition_data\")\n",
    "\n",
    "train_df = pd.read_csv(os.path.join(data_dir, 'data/train_set.csv'), sep='\\t', nrows=15000)\n",
    "\n",
    "tfidf = TfidfVectorizer(ngram_range=(1,3), max_features=3000)\n",
    "train_test = tfidf.fit_transform(train_df['text'])\n",
    "\n",
    "clf = RidgeClassifier()\n",
    "clf.fit(train_test[:10000], train_df['label'].values[:10000])\n",
    "\n",
    "val_pred = clf.predict(train_test[10000:])\n",
    "print(f1_score(train_df['label'].values[10000:], val_pred, average='macro'))\n",
    "# 0.87"
   ]
  },
  {
   "cell_type": "code",
   "execution_count": 11,
   "metadata": {},
   "outputs": [
    {
     "name": "stdout",
     "output_type": "stream",
     "text": [
      "30 0.2189540444476877\n",
      "耗时： 33.73664093017578\n",
      "300 0.6718911185943914\n",
      "耗时： 33.80941700935364\n",
      "3000 0.8721598830546126\n",
      "耗时： 35.318426847457886\n",
      "30000 0.8961640609998208\n",
      "耗时： 38.89586901664734\n"
     ]
    }
   ],
   "source": [
    "# 作业1 调整TFIDF向量特征\n",
    "\n",
    "import pandas as pd\n",
    "\n",
    "from sklearn.feature_extraction.text import TfidfVectorizer\n",
    "from sklearn.linear_model import RidgeClassifier\n",
    "from sklearn.metrics import f1_score\n",
    "import time\n",
    "\n",
    "data_dir = os.path.abspath(\"./\").replace(\"competition\", \"competition_data\")\n",
    "\n",
    "train_df = pd.read_csv(os.path.join(data_dir, 'data/train_set.csv'), sep='\\t', nrows=15000)\n",
    "\n",
    "for max_features in [30, 300, 3000, 30000]:\n",
    "    start  = time.time()\n",
    "    tfidf = TfidfVectorizer(ngram_range=(1,3), max_features=max_features)\n",
    "    train_test = tfidf.fit_transform(train_df['text'])\n",
    "\n",
    "    clf = RidgeClassifier()\n",
    "    clf.fit(train_test[:10000], train_df['label'].values[:10000])\n",
    "\n",
    "    val_pred = clf.predict(train_test[10000:])\n",
    "    print(max_features, f1_score(train_df['label'].values[10000:], val_pred, average='macro'))\n",
    "    print(\"耗时：\", str(time.time()-start))\n"
   ]
  },
  {
   "cell_type": "code",
   "execution_count": null,
   "metadata": {},
   "outputs": [],
   "source": [
    "# 作业1 调整TFIDF的ngram_range参数\n",
    "\n",
    "import pandas as pd\n",
    "\n",
    "from sklearn.feature_extraction.text import TfidfVectorizer\n",
    "from sklearn.linear_model import RidgeClassifier\n",
    "from sklearn.metrics import f1_score\n",
    "import time\n",
    "\n",
    "data_dir = os.path.abspath(\"./\").replace(\"competition\", \"competition_data\")\n",
    "\n",
    "train_df = pd.read_csv(os.path.join(data_dir, 'data/train_set.csv'), sep='\\t', nrows=15000)\n",
    "\n",
    "for ngram_range in [1, 2, 3, 4]:\n",
    "    start  = time.time()\n",
    "    tfidf = TfidfVectorizer(ngram_range=(1,ngram_range), max_features=30000)\n",
    "    train_test = tfidf.fit_transform(train_df['text'])\n",
    "\n",
    "    clf = RidgeClassifier()\n",
    "    clf.fit(train_test[:10000], train_df['label'].values[:10000])\n",
    "\n",
    "    val_pred = clf.predict(train_test[10000:])\n",
    "    print(ngram_range, f1_score(train_df['label'].values[10000:], val_pred, average='macro'))\n",
    "    print(\"耗时：\", str(time.time()-start))"
   ]
  },
  {
   "cell_type": "code",
   "execution_count": 13,
   "metadata": {},
   "outputs": [
    {
     "name": "stderr",
     "output_type": "stream",
     "text": [
      "[Parallel(n_jobs=10)]: Using backend ThreadingBackend with 10 concurrent workers.\n"
     ]
    },
    {
     "name": "stdout",
     "output_type": "stream",
     "text": [
      "building tree 1 of 100building tree 2 of 100\n",
      "\n",
      "building tree 3 of 100building tree 4 of 100\n",
      "\n",
      "building tree 5 of 100building tree 6 of 100\n",
      "\n",
      "building tree 7 of 100building tree 8 of 100\n",
      "\n",
      "building tree 9 of 100building tree 10 of 100\n",
      "\n",
      "building tree 11 of 100building tree 12 of 100\n",
      "building tree 13 of 100building tree 14 of 100\n",
      "\n",
      "\n",
      "building tree 15 of 100\n",
      "building tree 16 of 100\n",
      "building tree 17 of 100building tree 18 of 100building tree 19 of 100\n",
      "\n",
      "\n",
      "building tree 20 of 100\n",
      "building tree 21 of 100\n",
      "building tree 22 of 100building tree 23 of 100\n",
      "building tree 24 of 100\n",
      "\n",
      "building tree 25 of 100\n",
      "building tree 26 of 100\n",
      "building tree 27 of 100\n",
      "building tree 28 of 100\n",
      "building tree 29 of 100\n",
      "building tree 30 of 100\n"
     ]
    },
    {
     "name": "stderr",
     "output_type": "stream",
     "text": [
      "[Parallel(n_jobs=10)]: Done  21 tasks      | elapsed:    0.9s\n"
     ]
    },
    {
     "name": "stdout",
     "output_type": "stream",
     "text": [
      "building tree 31 of 100\n",
      "building tree 32 of 100\n",
      "building tree 33 of 100\n",
      "building tree 34 of 100building tree 35 of 100building tree 36 of 100\n",
      "\n",
      "\n",
      "building tree 37 of 100\n",
      "building tree 38 of 100\n",
      "building tree 39 of 100\n",
      "building tree 40 of 100\n",
      "building tree 41 of 100\n",
      "building tree 42 of 100building tree 43 of 100\n",
      "building tree 44 of 100\n",
      "\n",
      "building tree 45 of 100building tree 46 of 100\n",
      "\n",
      "building tree 47 of 100\n",
      "building tree 48 of 100building tree 49 of 100\n",
      "building tree 50 of 100\n",
      "\n",
      "building tree 51 of 100\n",
      "building tree 52 of 100\n",
      "building tree 53 of 100building tree 54 of 100\n",
      "\n",
      "building tree 55 of 100building tree 56 of 100\n",
      "\n",
      "building tree 57 of 100\n",
      "building tree 58 of 100\n",
      "building tree 59 of 100\n",
      "building tree 60 of 100\n",
      "building tree 61 of 100\n",
      "building tree 62 of 100\n",
      "building tree 63 of 100\n",
      "building tree 64 of 100\n",
      "building tree 65 of 100\n",
      "building tree 66 of 100\n",
      "building tree 67 of 100building tree 68 of 100building tree 69 of 100\n",
      "\n",
      "\n",
      "building tree 70 of 100\n",
      "building tree 71 of 100\n",
      "building tree 72 of 100building tree 73 of 100\n",
      "\n",
      "building tree 74 of 100\n",
      "building tree 75 of 100\n",
      "building tree 76 of 100\n",
      "building tree 77 of 100\n",
      "building tree 78 of 100\n",
      "building tree 79 of 100\n",
      "building tree 80 of 100\n",
      "building tree 81 of 100building tree 82 of 100\n",
      "\n",
      "building tree 83 of 100\n",
      "building tree 84 of 100\n",
      "building tree 85 of 100\n",
      "building tree 86 of 100\n",
      "building tree 87 of 100\n",
      "building tree 88 of 100\n",
      "building tree 89 of 100\n",
      "building tree 90 of 100\n",
      "building tree 91 of 100\n",
      "building tree 92 of 100\n",
      "building tree 93 of 100\n",
      "building tree 94 of 100\n",
      "building tree 95 of 100\n",
      "building tree 96 of 100\n",
      "building tree 97 of 100building tree 98 of 100\n",
      "\n",
      "building tree 99 of 100\n",
      "building tree 100 of 100\n"
     ]
    },
    {
     "name": "stderr",
     "output_type": "stream",
     "text": [
      "[Parallel(n_jobs=10)]: Done 100 out of 100 | elapsed:    3.2s finished\n"
     ]
    },
    {
     "name": "stdout",
     "output_type": "stream",
     "text": [
      "8 0.8495898388161273\n",
      "耗时： 38.263571977615356\n"
     ]
    },
    {
     "name": "stderr",
     "output_type": "stream",
     "text": [
      "[Parallel(n_jobs=10)]: Using backend ThreadingBackend with 10 concurrent workers.\n",
      "[Parallel(n_jobs=10)]: Done  21 tasks      | elapsed:    0.0s\n",
      "[Parallel(n_jobs=10)]: Done 100 out of 100 | elapsed:    0.2s finished\n"
     ]
    }
   ],
   "source": [
    "import pandas as pd\n",
    "\n",
    "from sklearn.feature_extraction.text import TfidfVectorizer\n",
    "from sklearn.ensemble import RandomForestClassifier\n",
    "from sklearn.metrics import f1_score\n",
    "import time\n",
    "\n",
    "data_dir = os.path.abspath(\"./\").replace(\"competition\", \"competition_data\")\n",
    "train_df = pd.read_csv(os.path.join(data_dir, 'data/train_set.csv'), sep='\\t', nrows=15000)\n",
    "\n",
    "start  = time.time()\n",
    "tfidf = TfidfVectorizer(ngram_range=(1,3), max_features=30000)\n",
    "train_test = tfidf.fit_transform(train_df['text'])\n",
    "\n",
    "#随机森林\n",
    "clf = RandomForestClassifier(random_state = 100, \n",
    "                            min_samples_split = 3, \n",
    "                            n_estimators = 100,\n",
    "                            oob_score = True,\n",
    "                            verbose = 2,\n",
    "                            class_weight = \"balanced\",\n",
    "                            n_jobs = 10)#进程数     \n",
    "clf.fit(train_test[:10000], train_df['label'].values[:10000])\n",
    "val_pred = clf.predict(train_test[10000:])\n",
    "print\"f1_score:\", f1_score(train_df['label'].values[10000:], val_pred, average='macro'))\n",
    "print(\"耗时：\", str(time.time()-start))"
   ]
  },
  {
   "cell_type": "code",
   "execution_count": null,
   "metadata": {},
   "outputs": [],
   "source": []
  }
 ],
 "metadata": {
  "kernelspec": {
   "display_name": "Python 3 (ipykernel)",
   "language": "python",
   "name": "python3"
  },
  "language_info": {
   "codemirror_mode": {
    "name": "ipython",
    "version": 3
   },
   "file_extension": ".py",
   "mimetype": "text/x-python",
   "name": "python",
   "nbconvert_exporter": "python",
   "pygments_lexer": "ipython3",
   "version": "3.8.12"
  },
  "orig_nbformat": 2
 },
 "nbformat": 4,
 "nbformat_minor": 2
}