{
 "cells": [
  {
   "cell_type": "code",
   "execution_count": 1,
   "metadata": {},
   "outputs": [
    {
     "data": {
      "text/plain": "<torch._C.Generator at 0x119fb2d30>"
     },
     "execution_count": 1,
     "metadata": {},
     "output_type": "execute_result"
    }
   ],
   "source": [
    "import logging\n",
    "import random\n",
    "\n",
    "import numpy as np\n",
    "import torch\n",
    "\n",
    "logging.basicConfig(level=logging.INFO, format='%(asctime)-15s %(levelname)s: %(message)s')\n",
    "\n",
    "# set seed \n",
    "seed = 666\n",
    "random.seed(seed)\n",
    "np.random.seed(seed)\n",
    "torch.cuda.manual_seed(seed)\n",
    "torch.manual_seed(seed)"
   ]
  },
  {
   "cell_type": "code",
   "execution_count": 2,
   "metadata": {},
   "outputs": [
    {
     "name": "stderr",
     "output_type": "stream",
     "text": [
      "2021-10-31 14:04:12,207 INFO: Fold lens [1000, 1000, 1000, 1000, 1000, 1000, 1000, 1000, 1000, 1000]\n"
     ]
    }
   ],
   "source": [
    "# split data to 10 fold\n",
    "fold_num = 10\n",
    "data_file = './data/train_set.csv'\n",
    "import pandas as pd\n",
    "\n",
    "\n",
    "def all_data2fold(fold_num, num=10000):\n",
    "    fold_data = []\n",
    "    f = pd.read_csv(data_file, sep='\\t', encoding='UTF-8')\n",
    "    texts = f['text'].tolist()[:num]\n",
    "    labels = f['label'].tolist()[:num]\n",
    "\n",
    "    total = len(labels)\n",
    "\n",
    "    index = list(range(total))\n",
    "    np.random.shuffle(index)\n",
    "\n",
    "    all_texts = []\n",
    "    all_labels = []\n",
    "    for i in index:\n",
    "        all_texts.append(texts[i])\n",
    "        all_labels.append(labels[i])\n",
    "\n",
    "    label2id = {}\n",
    "    for i in range(total):\n",
    "        label = str(all_labels[i])\n",
    "        if label not in label2id:\n",
    "            label2id[label] = [i]\n",
    "        else:\n",
    "            label2id[label].append(i)\n",
    "\n",
    "    all_index = [[] for _ in range(fold_num)]\n",
    "    for label, data in label2id.items():\n",
    "        # print(label, len(data))\n",
    "        batch_size = int(len(data) / fold_num)\n",
    "        other = len(data) - batch_size * fold_num\n",
    "        for i in range(fold_num):\n",
    "            cur_batch_size = batch_size + 1 if i < other else batch_size\n",
    "            # print(cur_batch_size)\n",
    "            batch_data = [data[i * batch_size + b] for b in range(cur_batch_size)]\n",
    "            all_index[i].extend(batch_data)\n",
    "\n",
    "    batch_size = int(total / fold_num)\n",
    "    other_texts = []\n",
    "    other_labels = []\n",
    "    other_num = 0\n",
    "    start = 0\n",
    "    for fold in range(fold_num):\n",
    "        num = len(all_index[fold])\n",
    "        texts = [all_texts[i] for i in all_index[fold]]\n",
    "        labels = [all_labels[i] for i in all_index[fold]]\n",
    "\n",
    "        if num > batch_size:\n",
    "            fold_texts = texts[:batch_size]\n",
    "            other_texts.extend(texts[batch_size:])\n",
    "            fold_labels = labels[:batch_size]\n",
    "            other_labels.extend(labels[batch_size:])\n",
    "            other_num += num - batch_size\n",
    "        elif num < batch_size:\n",
    "            end = start + batch_size - num\n",
    "            fold_texts = texts + other_texts[start: end]\n",
    "            fold_labels = labels + other_labels[start: end]\n",
    "            start = end\n",
    "        else:\n",
    "            fold_texts = texts\n",
    "            fold_labels = labels\n",
    "\n",
    "        assert batch_size == len(fold_labels)\n",
    "\n",
    "        # shuffle\n",
    "        index = list(range(batch_size))\n",
    "        np.random.shuffle(index)\n",
    "\n",
    "        shuffle_fold_texts = []\n",
    "        shuffle_fold_labels = []\n",
    "        for i in index:\n",
    "            shuffle_fold_texts.append(fold_texts[i])\n",
    "            shuffle_fold_labels.append(fold_labels[i])\n",
    "\n",
    "        data = {'label': shuffle_fold_labels, 'text': shuffle_fold_texts}\n",
    "        fold_data.append(data)\n",
    "\n",
    "    logging.info(\"Fold lens %s\", str([len(data['label']) for data in fold_data]))\n",
    "\n",
    "    return fold_data\n",
    "\n",
    "\n",
    "fold_data = all_data2fold(10)"
   ]
  },
  {
   "cell_type": "code",
   "execution_count": 7,
   "metadata": {},
   "outputs": [
    {
     "name": "stderr",
     "output_type": "stream",
     "text": [
      "2021-10-31 14:05:04,942 INFO: Total 9000 docs.\n"
     ]
    }
   ],
   "source": [
    "# build train data for word2vec\n",
    "fold_id = 9\n",
    "\n",
    "train_texts = []\n",
    "for i in range(0, fold_id):\n",
    "    data = fold_data[i]\n",
    "    train_texts.extend(data['text'])\n",
    "    \n",
    "logging.info('Total %d docs.' % len(train_texts))"
   ]
  },
  {
   "cell_type": "code",
   "execution_count": 8,
   "metadata": {},
   "outputs": [
    {
     "name": "stderr",
     "output_type": "stream",
     "text": [
      "2021-10-31 14:05:06,502 INFO: Start training...\n",
      "2021-10-31 14:05:06,767 INFO: collecting all words and their counts\n",
      "2021-10-31 14:05:06,771 INFO: PROGRESS: at sentence #0, processed 0 words, keeping 0 word types\n",
      "2021-10-31 14:05:07,394 INFO: collected 5295 word types from a corpus of 8191447 raw words and 9000 sentences\n",
      "2021-10-31 14:05:07,394 INFO: Creating a fresh vocabulary\n",
      "2021-10-31 14:05:07,424 INFO: Word2Vec lifecycle event {'msg': 'effective_min_count=5 retains 4335 unique words (81.86968838526913%% of original 5295, drops 960)', 'datetime': '2021-10-31T14:05:07.402322', 'gensim': '4.1.2', 'python': '3.8.12 | packaged by conda-forge | (default, Oct 12 2021, 21:21:17) \\n[Clang 11.1.0 ]', 'platform': 'macOS-11.6-arm64-arm-64bit', 'event': 'prepare_vocab'}\n",
      "2021-10-31 14:05:07,425 INFO: Word2Vec lifecycle event {'msg': 'effective_min_count=5 leaves 8189498 word corpus (99.97620688994265%% of original 8191447, drops 1949)', 'datetime': '2021-10-31T14:05:07.425832', 'gensim': '4.1.2', 'python': '3.8.12 | packaged by conda-forge | (default, Oct 12 2021, 21:21:17) \\n[Clang 11.1.0 ]', 'platform': 'macOS-11.6-arm64-arm-64bit', 'event': 'prepare_vocab'}\n",
      "2021-10-31 14:05:07,441 INFO: deleting the raw counts dictionary of 5295 items\n",
      "2021-10-31 14:05:07,446 INFO: sample=0.001 downsamples 61 most-common words\n",
      "2021-10-31 14:05:07,447 INFO: Word2Vec lifecycle event {'msg': 'downsampling leaves estimated 7070438.362033907 word corpus (86.3%% of prior 8189498)', 'datetime': '2021-10-31T14:05:07.447055', 'gensim': '4.1.2', 'python': '3.8.12 | packaged by conda-forge | (default, Oct 12 2021, 21:21:17) \\n[Clang 11.1.0 ]', 'platform': 'macOS-11.6-arm64-arm-64bit', 'event': 'prepare_vocab'}\n",
      "2021-10-31 14:05:07,467 INFO: estimated required memory for 4335 words and 100 dimensions: 5635500 bytes\n",
      "2021-10-31 14:05:07,469 INFO: resetting layer weights\n",
      "2021-10-31 14:05:07,472 INFO: Word2Vec lifecycle event {'update': False, 'trim_rule': 'None', 'datetime': '2021-10-31T14:05:07.472458', 'gensim': '4.1.2', 'python': '3.8.12 | packaged by conda-forge | (default, Oct 12 2021, 21:21:17) \\n[Clang 11.1.0 ]', 'platform': 'macOS-11.6-arm64-arm-64bit', 'event': 'build_vocab'}\n",
      "2021-10-31 14:05:07,472 INFO: Word2Vec lifecycle event {'msg': 'training model with 8 workers on 4335 vocabulary and 100 features, using sg=0 hs=0 sample=0.001 negative=5 window=5 shrink_windows=True', 'datetime': '2021-10-31T14:05:07.472899', 'gensim': '4.1.2', 'python': '3.8.12 | packaged by conda-forge | (default, Oct 12 2021, 21:21:17) \\n[Clang 11.1.0 ]', 'platform': 'macOS-11.6-arm64-arm-64bit', 'event': 'train'}\n",
      "2021-10-31 14:05:08,480 INFO: EPOCH 1 - PROGRESS: at 51.92% examples, 3596762 words/s, in_qsize 13, out_qsize 2\n",
      "2021-10-31 14:05:09,359 INFO: worker thread finished; awaiting finish of 7 more threads\n",
      "2021-10-31 14:05:09,360 INFO: worker thread finished; awaiting finish of 6 more threads\n",
      "2021-10-31 14:05:09,362 INFO: worker thread finished; awaiting finish of 5 more threads\n",
      "2021-10-31 14:05:09,364 INFO: worker thread finished; awaiting finish of 4 more threads\n",
      "2021-10-31 14:05:09,365 INFO: worker thread finished; awaiting finish of 3 more threads\n",
      "2021-10-31 14:05:09,366 INFO: worker thread finished; awaiting finish of 2 more threads\n",
      "2021-10-31 14:05:09,367 INFO: worker thread finished; awaiting finish of 1 more threads\n",
      "2021-10-31 14:05:09,370 INFO: worker thread finished; awaiting finish of 0 more threads\n",
      "2021-10-31 14:05:09,370 INFO: EPOCH - 1 : training on 8191447 raw words (7021969 effective words) took 1.9s, 3703742 effective words/s\n",
      "2021-10-31 14:05:10,374 INFO: EPOCH 2 - PROGRESS: at 52.50% examples, 3649387 words/s, in_qsize 14, out_qsize 1\n",
      "2021-10-31 14:05:11,241 INFO: worker thread finished; awaiting finish of 7 more threads\n",
      "2021-10-31 14:05:11,242 INFO: worker thread finished; awaiting finish of 6 more threads\n",
      "2021-10-31 14:05:11,244 INFO: worker thread finished; awaiting finish of 5 more threads\n",
      "2021-10-31 14:05:11,245 INFO: worker thread finished; awaiting finish of 4 more threads\n",
      "2021-10-31 14:05:11,245 INFO: worker thread finished; awaiting finish of 3 more threads\n",
      "2021-10-31 14:05:11,247 INFO: worker thread finished; awaiting finish of 2 more threads\n",
      "2021-10-31 14:05:11,248 INFO: worker thread finished; awaiting finish of 1 more threads\n",
      "2021-10-31 14:05:11,250 INFO: worker thread finished; awaiting finish of 0 more threads\n",
      "2021-10-31 14:05:11,251 INFO: EPOCH - 2 : training on 8191447 raw words (7021671 effective words) took 1.9s, 3735994 effective words/s\n",
      "2021-10-31 14:05:12,253 INFO: EPOCH 3 - PROGRESS: at 55.20% examples, 3849840 words/s, in_qsize 16, out_qsize 1\n",
      "2021-10-31 14:05:13,046 INFO: worker thread finished; awaiting finish of 7 more threads\n",
      "2021-10-31 14:05:13,050 INFO: worker thread finished; awaiting finish of 6 more threads\n",
      "2021-10-31 14:05:13,050 INFO: worker thread finished; awaiting finish of 5 more threads\n",
      "2021-10-31 14:05:13,054 INFO: worker thread finished; awaiting finish of 4 more threads\n",
      "2021-10-31 14:05:13,055 INFO: worker thread finished; awaiting finish of 3 more threads\n",
      "2021-10-31 14:05:13,055 INFO: worker thread finished; awaiting finish of 2 more threads\n",
      "2021-10-31 14:05:13,057 INFO: worker thread finished; awaiting finish of 1 more threads\n",
      "2021-10-31 14:05:13,060 INFO: worker thread finished; awaiting finish of 0 more threads\n",
      "2021-10-31 14:05:13,060 INFO: EPOCH - 3 : training on 8191447 raw words (7021870 effective words) took 1.8s, 3884307 effective words/s\n",
      "2021-10-31 14:05:14,067 INFO: EPOCH 4 - PROGRESS: at 54.96% examples, 3820655 words/s, in_qsize 16, out_qsize 3\n",
      "2021-10-31 14:05:14,853 INFO: worker thread finished; awaiting finish of 7 more threads\n",
      "2021-10-31 14:05:14,857 INFO: worker thread finished; awaiting finish of 6 more threads\n",
      "2021-10-31 14:05:14,860 INFO: worker thread finished; awaiting finish of 5 more threads\n",
      "2021-10-31 14:05:14,861 INFO: worker thread finished; awaiting finish of 4 more threads\n",
      "2021-10-31 14:05:14,861 INFO: worker thread finished; awaiting finish of 3 more threads\n",
      "2021-10-31 14:05:14,862 INFO: worker thread finished; awaiting finish of 2 more threads\n",
      "2021-10-31 14:05:14,865 INFO: worker thread finished; awaiting finish of 1 more threads\n",
      "2021-10-31 14:05:14,867 INFO: worker thread finished; awaiting finish of 0 more threads\n",
      "2021-10-31 14:05:14,868 INFO: EPOCH - 4 : training on 8191447 raw words (7022361 effective words) took 1.8s, 3888579 effective words/s\n",
      "2021-10-31 14:05:15,871 INFO: EPOCH 5 - PROGRESS: at 55.31% examples, 3861458 words/s, in_qsize 16, out_qsize 0\n",
      "2021-10-31 14:05:16,660 INFO: worker thread finished; awaiting finish of 7 more threads\n",
      "2021-10-31 14:05:16,666 INFO: worker thread finished; awaiting finish of 6 more threads\n",
      "2021-10-31 14:05:16,666 INFO: worker thread finished; awaiting finish of 5 more threads\n",
      "2021-10-31 14:05:16,667 INFO: worker thread finished; awaiting finish of 4 more threads\n",
      "2021-10-31 14:05:16,668 INFO: worker thread finished; awaiting finish of 3 more threads\n",
      "2021-10-31 14:05:16,669 INFO: worker thread finished; awaiting finish of 2 more threads\n",
      "2021-10-31 14:05:16,673 INFO: worker thread finished; awaiting finish of 1 more threads\n",
      "2021-10-31 14:05:16,674 INFO: worker thread finished; awaiting finish of 0 more threads\n",
      "2021-10-31 14:05:16,674 INFO: EPOCH - 5 : training on 8191447 raw words (7020654 effective words) took 1.8s, 3891825 effective words/s\n",
      "2021-10-31 14:05:16,675 INFO: Word2Vec lifecycle event {'msg': 'training on 40957235 raw words (35108525 effective words) took 9.2s, 3815202 effective words/s', 'datetime': '2021-10-31T14:05:16.675190', 'gensim': '4.1.2', 'python': '3.8.12 | packaged by conda-forge | (default, Oct 12 2021, 21:21:17) \\n[Clang 11.1.0 ]', 'platform': 'macOS-11.6-arm64-arm-64bit', 'event': 'train'}\n",
      "2021-10-31 14:05:16,675 INFO: Word2Vec lifecycle event {'params': 'Word2Vec(vocab=4335, vector_size=100, alpha=0.025)', 'datetime': '2021-10-31T14:05:16.675497', 'gensim': '4.1.2', 'python': '3.8.12 | packaged by conda-forge | (default, Oct 12 2021, 21:21:17) \\n[Clang 11.1.0 ]', 'platform': 'macOS-11.6-arm64-arm-64bit', 'event': 'created'}\n",
      "<ipython-input-8-0dce08e2187b>:9: DeprecationWarning: Call to deprecated `init_sims` (Gensim 4.0.0 implemented internal optimizations that make calls to init_sims() unnecessary. init_sims() is now obsoleted and will be completely removed in future versions. See https://github.com/RaRe-Technologies/gensim/wiki/Migrating-from-Gensim-3.x-to-4).\n",
      "  model.init_sims(replace=True)\n",
      "2021-10-31 14:05:16,677 WARNING: destructive init_sims(replace=True) deprecated & no longer required for space-efficiency\n",
      "2021-10-31 14:05:16,677 INFO: Word2Vec lifecycle event {'fname_or_handle': './word2vec.bin', 'separately': 'None', 'sep_limit': 10485760, 'ignore': frozenset(), 'datetime': '2021-10-31T14:05:16.677908', 'gensim': '4.1.2', 'python': '3.8.12 | packaged by conda-forge | (default, Oct 12 2021, 21:21:17) \\n[Clang 11.1.0 ]', 'platform': 'macOS-11.6-arm64-arm-64bit', 'event': 'saving'}\n",
      "2021-10-31 14:05:16,678 INFO: not storing attribute cum_table\n",
      "2021-10-31 14:05:16,686 INFO: saved ./word2vec.bin\n"
     ]
    }
   ],
   "source": [
    "logging.info('Start training...')\n",
    "from gensim.models.word2vec import Word2Vec\n",
    "\n",
    "num_features = 100     # Word vector dimensionality\n",
    "num_workers = 8       # Number of threads to run in parallel\n",
    "\n",
    "train_texts = list(map(lambda x: list(x.split()), train_texts))\n",
    "model = Word2Vec(train_texts, workers=num_workers, vector_size=num_features)\n",
    "model.init_sims(replace=True)\n",
    "\n",
    "# save model\n",
    "model.save(\"./word2vec.bin\")"
   ]
  },
  {
   "cell_type": "code",
   "execution_count": 9,
   "metadata": {},
   "outputs": [
    {
     "name": "stderr",
     "output_type": "stream",
     "text": [
      "2021-10-31 14:05:29,173 INFO: loading Word2Vec object from ./word2vec.bin\n",
      "2021-10-31 14:05:29,177 INFO: loading wv recursively from ./word2vec.bin.wv.* with mmap=None\n",
      "2021-10-31 14:05:29,177 INFO: setting ignored attribute cum_table to None\n",
      "2021-10-31 14:05:29,196 INFO: Word2Vec lifecycle event {'fname': './word2vec.bin', 'datetime': '2021-10-31T14:05:29.196779', 'gensim': '4.1.2', 'python': '3.8.12 | packaged by conda-forge | (default, Oct 12 2021, 21:21:17) \\n[Clang 11.1.0 ]', 'platform': 'macOS-11.6-arm64-arm-64bit', 'event': 'loaded'}\n",
      "2021-10-31 14:05:29,199 INFO: storing 4335x100 projection weights into ./word2vec.txt\n"
     ]
    }
   ],
   "source": [
    "# load model\n",
    "model = Word2Vec.load(\"./word2vec.bin\")\n",
    "\n",
    "# convert format\n",
    "model.wv.save_word2vec_format('./word2vec.txt', binary=False)"
   ]
  },
  {
   "cell_type": "code",
   "execution_count": null,
   "metadata": {},
   "outputs": [],
   "source": []
  }
 ],
 "metadata": {
  "kernelspec": {
   "display_name": "Python 3 (ipykernel)",
   "name": "python3"
  },
  "language_info": {
   "codemirror_mode": {
    "name": "ipython",
    "version": 3
   },
   "file_extension": ".py",
   "mimetype": "text/x-python",
   "name": "python",
   "nbconvert_exporter": "python",
   "pygments_lexer": "ipython3",
   "version": "3.8.12"
  },
  "orig_nbformat": 2
 },
 "nbformat": 4,
 "nbformat_minor": 2
}